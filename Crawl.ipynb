{
 "cells": [
  {
   "cell_type": "code",
   "execution_count": 23,
   "id": "449470c9",
   "metadata": {},
   "outputs": [],
   "source": [
    "import contextlib\n",
    "import json\n",
    "import numpy\n",
    "import sys\n",
    "import time\n",
    "import requests\n",
    "import os"
   ]
  },
  {
   "cell_type": "code",
   "execution_count": 2,
   "id": "c0ed9363",
   "metadata": {},
   "outputs": [],
   "source": [
    "from bs4 import BeautifulSoup\n",
    "from datetime import datetime"
   ]
  },
  {
   "cell_type": "code",
   "execution_count": 4,
   "id": "eafafa1c",
   "metadata": {},
   "outputs": [
    {
     "name": "stdout",
     "output_type": "stream",
     "text": [
      "C:\\Users\\Michelle\\AppData\\Roaming\\jupyter\\runtime\\kernel-f6fb9fcd-22e9-40d7-98cb-3988eb1291d9.json\n"
     ]
    }
   ],
   "source": [
    "## RADDR Data Source (W)orking (D)irectory and filename by tLog\n",
    "wd = '/AP/Ftpdata/'\n",
    "wd2 = '/AP/Source/'\n",
    "tLog = datetime.now()\n",
    "delimiter = sys.argv[2]\n",
    "print(delimiter)"
   ]
  },
  {
   "cell_type": "code",
   "execution_count": 5,
   "id": "6582b3b3",
   "metadata": {},
   "outputs": [
    {
     "data": {
      "text/plain": [
       "'C:\\\\Users\\\\Michelle\\\\AppData\\\\Roaming\\\\jupyter\\\\runtime\\\\kernel-f6fb9fcd-22e9-40d7-98cb-3988eb1291d9.json'"
      ]
     },
     "execution_count": 5,
     "metadata": {},
     "output_type": "execute_result"
    }
   ],
   "source": [
    "sys.argv[2]"
   ]
  },
  {
   "cell_type": "code",
   "execution_count": null,
   "id": "33f05009",
   "metadata": {},
   "outputs": [],
   "source": [
    "## read api.csv\n",
    "api = {'index' : '', 'appid' : '' , 'apikey' : ''}\n",
    "\n",
    "#with open(wd + 'data/api.csv', 'r') as f:\n",
    "with contextlib.nested(\n",
    "    open(wd2 + 'data/api.csv', 'r'),\n",
    "    open(wd + 'output/from_tgos.txt', 'w'),\n",
    "    open(wd + 'output/from_tgos_error.txt', 'w'),\n",
    "    open(tgosLogFileName, 'w')) as (f, f1, f2, f3):\n",
    "    \n",
    "        for i1, appid in enumerate(f):\n",
    "            #print '%d,%s' %(index, appid)\n",
    "            api['index'] = '%d' %(i1) #index\n",
    "            api['appid'] = '%s' %(appid).split(',')[0] #appid\n",
    "            api['apikey'] = '%s' %(appid).split(',')[1] #apikey"
   ]
  },
  {
   "cell_type": "code",
   "execution_count": 72,
   "id": "8284d255",
   "metadata": {},
   "outputs": [],
   "source": [
    "## read api.csv\n",
    "api = {'index' : '', 'appid' : '' , 'apikey' : ''}\n",
    "\n",
    "api['index'] = '%d' + '1'\n",
    "api['appid'] = '%s' + 'UXIG80X/2z14Udg/9P41aeZJgl+wF1uvpnzEW99IKUQUwH48m6fRzQ==' #appid\n",
    "api['apikey'] = '%s' + 'cGEErDNy5yNTw4lb4fzGu/McHxMCS5EcQl0gV3NlhPgFwaAxSk92GQXpddmiDiCyu0tfWjzlcW9KGXd6YrRtkzOmIPSCeMeAZd3prdziLE2UxojZ4L5vXWo5fUFs5Sdg01bj5AIzBIXDigyw3F5jbbZJ+fcO1g4RfngUMqwSxUBExNr/ygOfppxUIjNkA4fcpyZW0VBDtbFx/bRdnkow4h1fNzlTGLHsW2r+TliXMEYWoLBxApnfhsJcZAyDMC9xrgg2bIG75bMAtuT2c3AHL6xaKtnAcX3ohK/I4XJTnJJ4aSNFgjxSogWr5t1rtM+xWCaCKrIaW5vNd9aHV6U6lBNpaem1RMeQ' #apikey"
   ]
  },
  {
   "cell_type": "code",
   "execution_count": 3,
   "id": "62b2f3d2",
   "metadata": {},
   "outputs": [],
   "source": [
    "## read api.csv\n",
    "api = {'index' : '', 'appid' : '' , 'apikey' : ''}\n",
    "\n",
    "api['index'] = '1'\n",
    "api['appid'] = 'UXIG80X/2z14Udg/9P41aeZJgl+wF1uvpnzEW99IKUQUwH48m6fRzQ==' #appid\n",
    "api['apikey'] = 'cGEErDNy5yNTw4lb4fzGu/McHxMCS5EcQl0gV3NlhPgFwaAxSk92GQXpddmiDiCyu0tfWjzlcW9KGXd6YrRtkzOmIPSCeMeAZd3prdziLE2UxojZ4L5vXWo5fUFs5Sdg01bj5AIzBIXDigyw3F5jbbZJ+fcO1g4RfngUMqwSxUBExNr/ygOfppxUIjNkA4fcpyZW0VBDtbFx/bRdnkow4h1fNzlTGLHsW2r+TliXMEYWoLBxApnfhsJcZAyDMC9xrgg2bIG75bMAtuT2c3AHL6xaKtnAcX3ohK/I4XJTnJJ4aSNFgjxSogWr5t1rtM+xWCaCKrIaW5vNd9aHV6U6lBNpaem1RMeQ' #apikey"
   ]
  },
  {
   "cell_type": "code",
   "execution_count": 4,
   "id": "8ae06d3d",
   "metadata": {},
   "outputs": [
    {
     "data": {
      "text/plain": [
       "{'index': '1',\n",
       " 'appid': 'UXIG80X/2z14Udg/9P41aeZJgl+wF1uvpnzEW99IKUQUwH48m6fRzQ==',\n",
       " 'apikey': 'cGEErDNy5yNTw4lb4fzGu/McHxMCS5EcQl0gV3NlhPgFwaAxSk92GQXpddmiDiCyu0tfWjzlcW9KGXd6YrRtkzOmIPSCeMeAZd3prdziLE2UxojZ4L5vXWo5fUFs5Sdg01bj5AIzBIXDigyw3F5jbbZJ+fcO1g4RfngUMqwSxUBExNr/ygOfppxUIjNkA4fcpyZW0VBDtbFx/bRdnkow4h1fNzlTGLHsW2r+TliXMEYWoLBxApnfhsJcZAyDMC9xrgg2bIG75bMAtuT2c3AHL6xaKtnAcX3ohK/I4XJTnJJ4aSNFgjxSogWr5t1rtM+xWCaCKrIaW5vNd9aHV6U6lBNpaem1RMeQ'}"
      ]
     },
     "execution_count": 4,
     "metadata": {},
     "output_type": "execute_result"
    }
   ],
   "source": [
    "api"
   ]
  },
  {
   "cell_type": "code",
   "execution_count": null,
   "id": "e8b360c8",
   "metadata": {},
   "outputs": [],
   "source": [
    "## read to_tgos.txt and save to address\n",
    "address = {'index' : '', 'md5' : '' , 'o_addr' : ''}\n",
    "\n",
    "for i0, addr in enumerate(f0):\n",
    "    if(',' not in addr.decode('big5').strip()): #Fantastic Beasts and Where to Find Them\n",
    "        continue\n",
    "\n",
    "    #print \"%s, %s\" %(i,i0)\n",
    "    address['index'] = '%d' %(i0) #index\n",
    "    address['md5'] =  '%s' %(addr).split(',')[0] #md5\n",
    "    address['o_addr'] = '%s' %(addr).decode('big5').strip().split(',')[1].encode('utf8') #o_addr"
   ]
  },
  {
   "cell_type": "code",
   "execution_count": 73,
   "id": "49d1ece9",
   "metadata": {},
   "outputs": [],
   "source": [
    "## read to_tgos.txt and save to address\n",
    "address = {'index' : '', 'md5' : '' , 'o_addr' : ''}\n",
    "\n",
    "address['index'] = '%d' + '1'   #index\n",
    "address['md5'] =  '%s' + '123'  #md5\n",
    "address['o_addr'] = '%s' + '嘉義縣新港鄉月潭村234之16號'  #o_addr"
   ]
  },
  {
   "cell_type": "code",
   "execution_count": 5,
   "id": "b11eecc5",
   "metadata": {},
   "outputs": [],
   "source": [
    "## read to_tgos.txt and save to address\n",
    "address = {'index' : '', 'md5' : '' , 'o_addr' : ''}\n",
    "\n",
    "address['index'] = '1'   #index\n",
    "address['md5'] =  '123'  #md5\n",
    "address['o_addr'] = '嘉義縣新港鄉月潭村234之16號'  #o_addr"
   ]
  },
  {
   "cell_type": "code",
   "execution_count": 6,
   "id": "764e0e01",
   "metadata": {},
   "outputs": [],
   "source": [
    "## WSQueryAddr\n",
    "url = 'https://addr.tgos.tw/addrws/v30/QueryAddr.asmx/QueryAddr'\n",
    "\n",
    "## SET Proxy Server\n",
    "proxies= {\n",
    "    #\"http\":\"http://testproxy.tstartel.com:8080/\"\n",
    "    \"http\":\"http://dmzproxy.tstartel.com:8080/\"\n",
    "}\n",
    "\n",
    "##\n",
    "payload = {\n",
    "           'oAPPId':api['appid'].strip(),\n",
    "           'oAPIKey':api['apikey'].strip(),\n",
    "           'oAddress':address['o_addr'].strip(),\n",
    "           'oSRS':'EPSG:4326',\n",
    "           'oFuzzyType':'2',\n",
    "           'oResultDataType':'json',\n",
    "           'oFuzzyBuffer':'0',\n",
    "           'oIsOnlyFullMatch':'false',\n",
    "           'oIsLockCounty':'false',\n",
    "           'oIsLockTown':'false',\n",
    "           'oIsLockVillage':'false',\n",
    "           'oIsLockRoadSection':'false',\n",
    "           'oIsLockLane':'false',\n",
    "           'oIsLockAlley':'false',\n",
    "           'oIsLockArea':'false',\n",
    "           'oIsSameNumber_SubNumber':'true',#modify\n",
    "           'oCanIgnoreVillage':'true',#modify\n",
    "           'oCanIgnoreNeighborhood':'true',#modify\n",
    "           'oReturnMaxCount':'0'\n",
    " }"
   ]
  },
  {
   "cell_type": "code",
   "execution_count": 7,
   "id": "c71a602a",
   "metadata": {},
   "outputs": [
    {
     "data": {
      "text/plain": [
       "{'oAPPId': 'UXIG80X/2z14Udg/9P41aeZJgl+wF1uvpnzEW99IKUQUwH48m6fRzQ==',\n",
       " 'oAPIKey': 'cGEErDNy5yNTw4lb4fzGu/McHxMCS5EcQl0gV3NlhPgFwaAxSk92GQXpddmiDiCyu0tfWjzlcW9KGXd6YrRtkzOmIPSCeMeAZd3prdziLE2UxojZ4L5vXWo5fUFs5Sdg01bj5AIzBIXDigyw3F5jbbZJ+fcO1g4RfngUMqwSxUBExNr/ygOfppxUIjNkA4fcpyZW0VBDtbFx/bRdnkow4h1fNzlTGLHsW2r+TliXMEYWoLBxApnfhsJcZAyDMC9xrgg2bIG75bMAtuT2c3AHL6xaKtnAcX3ohK/I4XJTnJJ4aSNFgjxSogWr5t1rtM+xWCaCKrIaW5vNd9aHV6U6lBNpaem1RMeQ',\n",
       " 'oAddress': '嘉義縣新港鄉月潭村234之16號',\n",
       " 'oSRS': 'EPSG:4326',\n",
       " 'oFuzzyType': '2',\n",
       " 'oResultDataType': 'json',\n",
       " 'oFuzzyBuffer': '0',\n",
       " 'oIsOnlyFullMatch': 'false',\n",
       " 'oIsLockCounty': 'false',\n",
       " 'oIsLockTown': 'false',\n",
       " 'oIsLockVillage': 'false',\n",
       " 'oIsLockRoadSection': 'false',\n",
       " 'oIsLockLane': 'false',\n",
       " 'oIsLockAlley': 'false',\n",
       " 'oIsLockArea': 'false',\n",
       " 'oIsSameNumber_SubNumber': 'true',\n",
       " 'oCanIgnoreVillage': 'true',\n",
       " 'oCanIgnoreNeighborhood': 'true',\n",
       " 'oReturnMaxCount': '0'}"
      ]
     },
     "execution_count": 7,
     "metadata": {},
     "output_type": "execute_result"
    }
   ],
   "source": [
    "payload"
   ]
  },
  {
   "cell_type": "code",
   "execution_count": 70,
   "id": "10bf94ad",
   "metadata": {},
   "outputs": [
    {
     "name": "stdout",
     "output_type": "stream",
     "text": [
      "<Response [200]>\n"
     ]
    }
   ],
   "source": [
    "#get web requests\n",
    "res = requests.post(url, data=payload, proxies=proxies)\n",
    "print(res)"
   ]
  },
  {
   "cell_type": "code",
   "execution_count": 8,
   "id": "badd35a5",
   "metadata": {
    "scrolled": true
   },
   "outputs": [
    {
     "data": {
      "text/plain": [
       "'https://addr.tgos.tw/addrws/v30/QueryAddr.asmx/QueryAddr'"
      ]
     },
     "execution_count": 8,
     "metadata": {},
     "output_type": "execute_result"
    }
   ],
   "source": [
    "url"
   ]
  },
  {
   "cell_type": "code",
   "execution_count": 81,
   "id": "f9fd5d17",
   "metadata": {},
   "outputs": [
    {
     "name": "stdout",
     "output_type": "stream",
     "text": [
      "200\n"
     ]
    }
   ],
   "source": [
    "res = requests.post(url, data=payload)\n",
    "print(res.status_code)"
   ]
  },
  {
   "cell_type": "code",
   "execution_count": 13,
   "id": "8ffb2ac4",
   "metadata": {
    "scrolled": true
   },
   "outputs": [
    {
     "name": "stdout",
     "output_type": "stream",
     "text": [
      "<?xml version=\"1.0\" encoding=\"utf-8\"?><html><body><string xmlns=\"http://tempuri.org/\">{\r\n",
      "  \"Info\": [\r\n",
      "    {\r\n",
      "      \"IsSuccess\": \"True\",\r\n",
      "      \"InAddress\": \"嘉義縣新港鄉月潭村234之16號\",\r\n",
      "      \"InSRS\": \"EPSG:4326\",\r\n",
      "      \"InFuzzyType\": \"[單雙號機制]+[最近門牌號機制]\",\r\n",
      "      \"InFuzzyBuffer\": \"0\",\r\n",
      "      \"InIsOnlyFullMatch\": \"False\",\r\n",
      "      \"InIsLockCounty\": \"False\",\r\n",
      "      \"InIsLockTown\": \"False\",\r\n",
      "      \"InIsLockVillage\": \"False\",\r\n",
      "      \"InIsLockRoadSection\": \"False\",\r\n",
      "      \"InIsLockLane\": \"False\",\r\n",
      "      \"InIsLockAlley\": \"False\",\r\n",
      "      \"InIsLockArea\": \"False\",\r\n",
      "      \"InIsSameNumber_SubNumber\": \"True\",\r\n",
      "      \"InCanIgnoreVillage\": \"True\",\r\n",
      "      \"InCanIgnoreNeighborhood\": \"True\",\r\n",
      "      \"InReturnMaxCount\": \"0\",\r\n",
      "      \"OutTotal\": \"1\",\r\n",
      "      \"OutMatchType\": \"模糊比對\",\r\n",
      "      \"OutMatchCode\": \"[嘉義縣]\\tT:1,V:1,R:-1,S:-1,L:-1,A:-1,SA:-1,T:-1,AR:-1,NO:1,E:-1,N:-1\",\r\n",
      "      \"OutTraceInfo\": \"[嘉義縣]\\t { 模糊比對 } (新港鄉)\\t找到符合的[鄉鎮市區]，(月潭村)\\t找到符合的[村里]，(234之16號)\\t找到符合的[門牌號碼]，模糊比對找到 1 筆符合的門牌地址。\"\r\n",
      "    }\r\n",
      "  ],\r\n",
      "  \"AddressList\": [\r\n",
      "    {\r\n",
      "      \"FULL_ADDR\": \"嘉義縣新港鄉月潭村8鄰月眉潭234號之16\",\r\n",
      "      \"COUNTY\": \"嘉義縣\",\r\n",
      "      \"TOWN\": \"新港鄉\",\r\n",
      "      \"VILLAGE\": \"月潭村\",\r\n",
      "      \"NEIGHBORHOOD\": \"8鄰\",\r\n",
      "      \"ROAD\": \"\",\r\n",
      "      \"SECTION\": \"\",\r\n",
      "      \"LANE\": \"\",\r\n",
      "      \"ALLEY\": \"\",\r\n",
      "      \"SUB_ALLEY\": \"\",\r\n",
      "      \"TONG\": \"\",\r\n",
      "      \"AREA\": \"月眉潭\",\r\n",
      "      \"NUMBER\": \"234號之16\",\r\n",
      "      \"X\": 120.350212,\r\n",
      "      \"Y\": 23.525203\r\n",
      "    }\r\n",
      "  ]\r\n",
      "}</string></body></html>\n"
     ]
    }
   ],
   "source": [
    "#get web requests\n",
    "res = requests.post(url, data=payload)\n",
    "soup = BeautifulSoup(res.text, \"lxml\")\n",
    "a = soup.findAll('string')\n",
    "print(soup)"
   ]
  },
  {
   "cell_type": "code",
   "execution_count": 14,
   "id": "0d9eee5a",
   "metadata": {},
   "outputs": [
    {
     "name": "stdout",
     "output_type": "stream",
     "text": [
      "0.3434077394352973\n"
     ]
    }
   ],
   "source": [
    "# sleep random second between each address\n",
    "t = abs(numpy.random.randn())\n",
    "print(t)\n",
    "time.sleep(t/10)"
   ]
  },
  {
   "cell_type": "code",
   "execution_count": 24,
   "id": "4f8be14f",
   "metadata": {},
   "outputs": [
    {
     "data": {
      "text/plain": [
       "'C:\\\\Users\\\\Michelle'"
      ]
     },
     "execution_count": 24,
     "metadata": {},
     "output_type": "execute_result"
    }
   ],
   "source": [
    "delimiter = ';'\n",
    "wd = os.getcwd()"
   ]
  },
  {
   "cell_type": "code",
   "execution_count": 25,
   "id": "ca0451ee",
   "metadata": {
    "scrolled": true
   },
   "outputs": [
    {
     "ename": "AttributeError",
     "evalue": "module 'contextlib' has no attribute 'nested'",
     "output_type": "error",
     "traceback": [
      "\u001b[1;31m---------------------------------------------------------------------------\u001b[0m",
      "\u001b[1;31mAttributeError\u001b[0m                            Traceback (most recent call last)",
      "\u001b[1;32m<ipython-input-25-cb4b095eaece>\u001b[0m in \u001b[0;36m<module>\u001b[1;34m\u001b[0m\n\u001b[1;32m----> 1\u001b[1;33m with contextlib.nested(\n\u001b[0m\u001b[0;32m      2\u001b[0m     open(wd + '\\from_tgos.txt', 'w')) as (f1):\n\u001b[0;32m      3\u001b[0m         \u001b[1;32mfor\u001b[0m \u001b[0mi\u001b[0m \u001b[1;32min\u001b[0m \u001b[0ma\u001b[0m\u001b[1;33m:\u001b[0m\u001b[1;33m\u001b[0m\u001b[1;33m\u001b[0m\u001b[0m\n\u001b[0;32m      4\u001b[0m             \u001b[1;31m#print ','.join(['%s' %(values) for (values) in json.loads(i.text)['AddressList'][0].values()])\u001b[0m\u001b[1;33m\u001b[0m\u001b[1;33m\u001b[0m\u001b[1;33m\u001b[0m\u001b[0m\n\u001b[0;32m      5\u001b[0m \u001b[1;33m\u001b[0m\u001b[0m\n",
      "\u001b[1;31mAttributeError\u001b[0m: module 'contextlib' has no attribute 'nested'"
     ]
    }
   ],
   "source": [
    "with contextlib.nested(\n",
    "    open(wd + '\\from_tgos.txt', 'w')) as (f1):\n",
    "        for i in a:\n",
    "            #print ','.join(['%s' %(values) for (values) in json.loads(i.text)['AddressList'][0].values()])\n",
    " \n",
    "            ## check return address:['AddressList']\n",
    "            #if(isinstance((json.loads(i.text)['AddressList'][0]['FULL_ADDR'].encode('utf8')), basestring)):\n",
    "                f1.write(address['md5'])\n",
    "                f1.write(delimiter)\n",
    "                f1.write(json.loads(i.text)['Info'][0]['InAddress'].encode('utf8'))\n",
    "                f1.write(delimiter)\n",
    "                f1.write(json.loads(i.text)['AddressList'][0]['FULL_ADDR'].encode('utf8'))\n",
    "                f1.write(delimiter)\n",
    "                f1.write(json.loads(i.text)['AddressList'][0]['COUNTY'].encode('utf8'))\n",
    "                f1.write(delimiter)\n",
    "                f1.write(json.loads(i.text)['AddressList'][0]['TOWN'].encode('utf8'))\n",
    "                f1.write(delimiter)\n",
    "                f1.write(json.loads(i.text)['AddressList'][0]['VILLAGE'].encode('utf8'))\n",
    "                f1.write(delimiter)\n",
    "                f1.write(json.loads(i.text)['AddressList'][0]['NEIGHBORHOOD'].encode('utf8'))\n",
    "                f1.write(delimiter)\n",
    "                f1.write(json.loads(i.text)['AddressList'][0]['ROAD'].encode('utf8'))\n",
    "                f1.write(delimiter)\n",
    "                f1.write(json.loads(i.text)['AddressList'][0]['SECTION'].encode('utf8'))\n",
    "                f1.write(delimiter)\n",
    "                f1.write(json.loads(i.text)['AddressList'][0]['LANE'].encode('utf8'))\n",
    "                f1.write(delimiter)\n",
    "                f1.write(json.loads(i.text)['AddressList'][0]['ALLEY'].encode('utf8'))\n",
    "                f1.write(delimiter)\n",
    "                f1.write(json.loads(i.text)['AddressList'][0]['SUB_ALLEY'].encode('utf8'))\n",
    "                f1.write(delimiter)\n",
    "                f1.write(json.loads(i.text)['AddressList'][0]['TONG'].encode('utf8'))\n",
    "                f1.write(delimiter)\n",
    "                f1.write(json.loads(i.text)['AddressList'][0]['NUMBER'].encode('utf8'))\n",
    "                f1.write(delimiter)\n",
    "                f1.write(str(json.loads(i.text)['AddressList'][0]['X']))\n",
    "                f1.write(delimiter)\n",
    "                f1.write(str(json.loads(i.text)['AddressList'][0]['Y']))"
   ]
  },
  {
   "cell_type": "markdown",
   "id": "9b06a284",
   "metadata": {},
   "source": [
    "## requests 的 get 方法"
   ]
  },
  {
   "cell_type": "code",
   "execution_count": 45,
   "id": "0c3db2f8",
   "metadata": {},
   "outputs": [
    {
     "name": "stdout",
     "output_type": "stream",
     "text": [
      "got!\n"
     ]
    }
   ],
   "source": [
    "url = 'http://www.setn.com/news.aspx?newsid=225139'\n",
    "r = requests.get(url, headers=request_headers)\n",
    "if '寵妻狂魔！黃曉明辦公室曝光　竟擺Baby銅像' in r.text:\n",
    "    print('got!')"
   ]
  },
  {
   "cell_type": "markdown",
   "id": "8c3332c3",
   "metadata": {},
   "source": [
    "## requests 的 post 方法"
   ]
  },
  {
   "cell_type": "markdown",
   "id": "05577a7d",
   "metadata": {},
   "source": [
    "### 範例：字典"
   ]
  },
  {
   "cell_type": "code",
   "execution_count": 43,
   "id": "c6f57a49",
   "metadata": {},
   "outputs": [
    {
     "name": "stdout",
     "output_type": "stream",
     "text": [
      "{\n",
      "  \"args\": {}, \n",
      "  \"data\": \"\", \n",
      "  \"files\": {}, \n",
      "  \"form\": {\n",
      "    \"comments\": \"none\", \n",
      "    \"custemail\": \"a@b.c\", \n",
      "    \"custname\": \"abc\", \n",
      "    \"custtel\": \"123\", \n",
      "    \"delivery\": \"20:00\", \n",
      "    \"size\": \"small\", \n",
      "    \"topping\": \"mushroom\"\n",
      "  }, \n",
      "  \"headers\": {\n",
      "    \"Accept\": \"*/*\", \n",
      "    \"Accept-Encoding\": \"gzip, deflate\", \n",
      "    \"Content-Length\": \"101\", \n",
      "    \"Content-Type\": \"application/x-www-form-urlencoded\", \n",
      "    \"Host\": \"httpbin.org\", \n",
      "    \"User-Agent\": \"Mozilla/5.0 (Macintosh; Intel Mac OS X 10_11_6) AppleWebKit/537.36 (KHTML, like Gecko) Chrome/56.0.2924.87 Safari/537.36\", \n",
      "    \"X-Amzn-Trace-Id\": \"Root=1-63297a7d-09c7f75c084d63e43bb8c78d\"\n",
      "  }, \n",
      "  \"json\": null, \n",
      "  \"origin\": \"180.217.64.62\", \n",
      "  \"url\": \"https://httpbin.org/post\"\n",
      "}\n",
      "\n"
     ]
    }
   ],
   "source": [
    "import requests\n",
    "import pandas\n",
    "\n",
    "url = 'https://httpbin.org/post'\n",
    "request_headers = {\n",
    "    'User-Agent':'Mozilla/5.0 (Macintosh; Intel Mac OS X 10_11_6) AppleWebKit/537.36 (KHTML, like Gecko) Chrome/56.0.2924.87 Safari/537.36',\n",
    "}\n",
    "form_data = {\n",
    "    'custname':'abc',\n",
    "    'custtel':'123',\n",
    "    'custemail':'a@b.c',\n",
    "    'size':'small',\n",
    "    'topping':'bacon',\n",
    "    'topping':'onion',\n",
    "    'topping':'cheese',\n",
    "    'topping':'mushroom',\n",
    "    'delivery':'20:00',\n",
    "    'comments':'none',\n",
    "}\n",
    "r = requests.post(url, data=form_data, headers=request_headers)\n",
    "print(r.text)"
   ]
  },
  {
   "cell_type": "code",
   "execution_count": 44,
   "id": "c4707108",
   "metadata": {},
   "outputs": [
    {
     "name": "stdout",
     "output_type": "stream",
     "text": [
      "{'comments': 'none', 'custemail': 'a@b.c', 'custname': 'abc', 'custtel': '123', 'delivery': '20:00', 'size': 'small', 'topping': 'mushroom'}\n"
     ]
    },
    {
     "data": {
      "text/html": [
       "<div>\n",
       "<style scoped>\n",
       "    .dataframe tbody tr th:only-of-type {\n",
       "        vertical-align: middle;\n",
       "    }\n",
       "\n",
       "    .dataframe tbody tr th {\n",
       "        vertical-align: top;\n",
       "    }\n",
       "\n",
       "    .dataframe thead th {\n",
       "        text-align: right;\n",
       "    }\n",
       "</style>\n",
       "<table border=\"1\" class=\"dataframe\">\n",
       "  <thead>\n",
       "    <tr style=\"text-align: right;\">\n",
       "      <th></th>\n",
       "      <th>comments</th>\n",
       "      <th>custemail</th>\n",
       "      <th>custname</th>\n",
       "      <th>custtel</th>\n",
       "      <th>delivery</th>\n",
       "      <th>size</th>\n",
       "      <th>topping</th>\n",
       "    </tr>\n",
       "  </thead>\n",
       "  <tbody>\n",
       "    <tr>\n",
       "      <th>0</th>\n",
       "      <td>none</td>\n",
       "      <td>a@b.c</td>\n",
       "      <td>abc</td>\n",
       "      <td>123</td>\n",
       "      <td>20:00</td>\n",
       "      <td>small</td>\n",
       "      <td>mushroom</td>\n",
       "    </tr>\n",
       "  </tbody>\n",
       "</table>\n",
       "</div>"
      ],
      "text/plain": [
       "  comments custemail custname custtel delivery   size   topping\n",
       "0     none     a@b.c      abc     123    20:00  small  mushroom"
      ]
     },
     "execution_count": 44,
     "metadata": {},
     "output_type": "execute_result"
    }
   ],
   "source": [
    "dic = r.json()['form']\n",
    "print(dic)\n",
    "df = pandas.DataFrame([dic])\n",
    "df"
   ]
  },
  {
   "cell_type": "markdown",
   "id": "8800d99e",
   "metadata": {},
   "source": [
    "### 範例：字典+json.dumps"
   ]
  },
  {
   "cell_type": "code",
   "execution_count": 37,
   "id": "2b1dff1d",
   "metadata": {},
   "outputs": [
    {
     "name": "stdout",
     "output_type": "stream",
     "text": [
      "{\"message\":\"Not Found\",\"documentation_url\":\"https://docs.github.com/rest\"}\n"
     ]
    }
   ],
   "source": [
    "import json\n",
    "\n",
    "url = 'https://api.github.com/some/endpoint'\n",
    "payload = {'some': 'data'}\n",
    "\n",
    "r = requests.post(url, data=json.dumps(payload))\n",
    "print(r.text) "
   ]
  },
  {
   "cell_type": "markdown",
   "id": "f5cd7128",
   "metadata": {},
   "source": [
    "### 範例"
   ]
  },
  {
   "cell_type": "markdown",
   "id": "b74a633a",
   "metadata": {},
   "source": [
    "擷取九篇新聞的分類、標題、時間、內文，再加上網址，最後以pandas表格呈現<br>\n",
    "開始可能需要翻解答，成功後重寫幾次，直到一次完成，就有一定的基本功了！"
   ]
  },
  {
   "cell_type": "code",
   "execution_count": 47,
   "id": "e796440f",
   "metadata": {},
   "outputs": [
    {
     "name": "stdout",
     "output_type": "stream",
     "text": [
      "Collecting arrow\n",
      "  Downloading arrow-1.2.3-py3-none-any.whl (66 kB)\n",
      "Requirement already satisfied: python-dateutil>=2.7.0 in d:\\anaconda3\\lib\\site-packages (from arrow) (2.8.1)\n",
      "Requirement already satisfied: six>=1.5 in d:\\anaconda3\\lib\\site-packages (from python-dateutil>=2.7.0->arrow) (1.15.0)\n",
      "Installing collected packages: arrow\n",
      "Successfully installed arrow-1.2.3\n"
     ]
    }
   ],
   "source": [
    "!pip install arrow"
   ]
  },
  {
   "cell_type": "code",
   "execution_count": 48,
   "id": "c5455618",
   "metadata": {},
   "outputs": [
    {
     "name": "stdout",
     "output_type": "stream",
     "text": [
      "[Page 1]\n",
      "[Page 2]\n",
      "[Page 3]\n"
     ]
    },
    {
     "data": {
      "text/html": [
       "<div>\n",
       "<style scoped>\n",
       "    .dataframe tbody tr th:only-of-type {\n",
       "        vertical-align: middle;\n",
       "    }\n",
       "\n",
       "    .dataframe tbody tr th {\n",
       "        vertical-align: top;\n",
       "    }\n",
       "\n",
       "    .dataframe thead th {\n",
       "        text-align: right;\n",
       "    }\n",
       "</style>\n",
       "<table border=\"1\" class=\"dataframe\">\n",
       "  <thead>\n",
       "    <tr style=\"text-align: right;\">\n",
       "      <th></th>\n",
       "    </tr>\n",
       "  </thead>\n",
       "  <tbody>\n",
       "  </tbody>\n",
       "</table>\n",
       "</div>"
      ],
      "text/plain": [
       "Empty DataFrame\n",
       "Columns: []\n",
       "Index: []"
      ]
     },
     "execution_count": 48,
     "metadata": {},
     "output_type": "execute_result"
    }
   ],
   "source": [
    "import requests\n",
    "from bs4 import BeautifulSoup as bs\n",
    "import time\n",
    "import arrow\n",
    "import pandas\n",
    "\n",
    "request_headers = {\n",
    "    'user-agent':'Mozilla/5.0 (Macintosh; Intel Mac OS X 10_11_6) AppleWebKit/537.36' \\\n",
    "    '(KHTML, like Gecko) Chrome/55.0.2883.95 Safari/537.36',\n",
    "}\n",
    "\n",
    "post_url_list = []\n",
    "for n in range(1, 4):\n",
    "    print('[Page {}]'.format(n))\n",
    "    url = 'http://www.setn.com/ViewAll.aspx?p={}'.format(n)\n",
    "    r = requests.get(url, headers=request_headers)\n",
    "    time.sleep(2)\n",
    "    soup = bs(r.text, 'lxml')\n",
    "\n",
    "    for t in soup.select('.box li')[:3]:\n",
    "        a_tag = t.select('a')[0]\n",
    "        url_tail = a_tag['href']\n",
    "        post_url = 'http://www.setn.com{}'.format(url_tail)\n",
    "        post_url_list.append(post_url)\n",
    "\n",
    "post_list = []\n",
    "for p_url in post_url_list:\n",
    "    print(p_url)\n",
    "    r = requests.get(p_url, headers=request_headers)\n",
    "    time.sleep(2)\n",
    "    soup = bs(r.text, 'lxml')\n",
    "    post_time_str = soup.select('meta[name=\"pubdate\"]')[0]['content']\n",
    "    post_time = arrow.get(post_time_str).replace(tzinfo='local').datetime\n",
    "    dic = {\n",
    "        'url':p_url,\n",
    "        'category':soup.select('#toptitle a')[1].text,\n",
    "        'title':soup.select('div.title > h1')[0].text,\n",
    "        'post_time':post_time,\n",
    "        'content':soup.select('#Content1')[0].text.strip()\n",
    "    }\n",
    "    post_list.append(dic)\n",
    "\n",
    "df = pandas.DataFrame(post_list)\n",
    "df"
   ]
  },
  {
   "cell_type": "markdown",
   "id": "5a54b121",
   "metadata": {},
   "source": [
    "## 參考資料"
   ]
  },
  {
   "cell_type": "markdown",
   "id": "1a3af064",
   "metadata": {},
   "source": [
    "* [requests](https://quakelai1.gitbooks.io/python/content/chapter1/4.html)\n",
    "* [輕鬆學習 Python：透過 API 擷取網站資料](https://medium.com/datainpoint/python-essentials-requesting-web-api-edd417a57ba5)\n",
    "* [HTTP response status codes](https://developer.mozilla.org/en-US/docs/Web/HTTP/Status)\n",
    "* [安裝/設定 proxy](https://xken831.pixnet.net/blog/post/472768343-%5Banaconda%5D-anaconda-%E5%AE%89%E8%A3%9D-proxy)"
   ]
  },
  {
   "cell_type": "code",
   "execution_count": null,
   "id": "18b5ecb6",
   "metadata": {},
   "outputs": [],
   "source": []
  }
 ],
 "metadata": {
  "kernelspec": {
   "display_name": "Python 3",
   "language": "python",
   "name": "python3"
  },
  "language_info": {
   "codemirror_mode": {
    "name": "ipython",
    "version": 3
   },
   "file_extension": ".py",
   "mimetype": "text/x-python",
   "name": "python",
   "nbconvert_exporter": "python",
   "pygments_lexer": "ipython3",
   "version": "3.8.8"
  }
 },
 "nbformat": 4,
 "nbformat_minor": 5
}
